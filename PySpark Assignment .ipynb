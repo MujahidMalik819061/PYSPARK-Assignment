{
 "cells": [
  {
   "cell_type": "code",
   "execution_count": 1,
   "id": "57ecb6dd",
   "metadata": {},
   "outputs": [],
   "source": [
    "from pyspark.sql import SparkSession\n",
    "from pyspark import SparkContext"
   ]
  },
  {
   "cell_type": "code",
   "execution_count": 2,
   "id": "9d2e1fff",
   "metadata": {},
   "outputs": [],
   "source": [
    "import pandas as pd\n",
    "import numpy as np"
   ]
  },
  {
   "cell_type": "code",
   "execution_count": 3,
   "id": "c5059a1f",
   "metadata": {},
   "outputs": [],
   "source": [
    "spark = SparkSession.builder.appName(\"PersonData\").getOrCreate()"
   ]
  },
  {
   "cell_type": "code",
   "execution_count": 4,
   "id": "b46800c4",
   "metadata": {},
   "outputs": [
    {
     "name": "stdout",
     "output_type": "stream",
     "text": [
      "3.4.1\n"
     ]
    }
   ],
   "source": [
    "print(spark.version)"
   ]
  },
  {
   "cell_type": "code",
   "execution_count": 5,
   "id": "5cf15bb2",
   "metadata": {},
   "outputs": [
    {
     "name": "stdout",
     "output_type": "stream",
     "text": [
      "root\n",
      " |-- S.no: integer (nullable = true)\n",
      " |-- Name: string (nullable = true)\n",
      " |-- Age: integer (nullable = true)\n",
      " |-- Occuption: string (nullable = true)\n",
      " |-- Education: string (nullable = true)\n",
      "\n"
     ]
    }
   ],
   "source": [
    "data= spark.read.format('csv').\\\n",
    "option('inferSchema', 'true').\\\n",
    "option('header', 'true').\\\n",
    "option('path', 'Person_Data.csv').\\\n",
    "load()\n",
    "data.printSchema()"
   ]
  },
  {
   "cell_type": "code",
   "execution_count": 6,
   "id": "c88eb727",
   "metadata": {},
   "outputs": [
    {
     "name": "stdout",
     "output_type": "stream",
     "text": [
      "+----+--------+---+------------------+-------------------+\n",
      "|S.no|    Name|Age|         Occuption|          Education|\n",
      "+----+--------+---+------------------+-------------------+\n",
      "|   1|  Idrish| 36|        Kishan Lal|High School Diploma|\n",
      "|   2|   Noyan| 30|          Engineer|    Master's Degree|\n",
      "|   3|  Sameer| 25|           Teacher| Doctor of Medicine|\n",
      "|   4|  Aakash| 35|            Doctor|  Bachelor's Degree|\n",
      "|   5|   Rohit| 28|Software Developer|  Bachelor's Degree|\n",
      "|   6|   Rahul| 40|        Accountant|  Bachelor's Degree|\n",
      "|   7|   Sumit| 29|  Graphic Designer|       Juris Doctor|\n",
      "|   8|   Ronak| 45|            Lawyer|  Bachelor's Degree|\n",
      "|   9|Priyanka| 32| Marketing Manager|High School Diploma|\n",
      "|  10| Fardeen| 27|           Student|  Bachelor's Degree|\n",
      "|  11|  Noshad| 38|             Nurse|  Bachelor's Degree|\n",
      "|  12|   Aakib| 31|         Architect|  Bachelor's Degree|\n",
      "|  13|  Manish| 33|        Journalist|  Bachelor's Degree|\n",
      "|  14|    Ansh| 42| Financial Analyst| Doctor of Pharmacy|\n",
      "|  15|  Monish| 26|        Pharmacist|       Trade School|\n",
      "|  16|    Annu| 36|       Electrician|    Culinary School|\n",
      "|  17|    Aman| 29|              Chef|     Police Academy|\n",
      "|  18|  Anupma| 39|    Police Officer|    Master's Degree|\n",
      "|  19|  Salman| 34|         Librarian|  Bachelor's Degree|\n",
      "|  20|   Rehan| 37| Real Estate Agent|    Master's Degree|\n",
      "+----+--------+---+------------------+-------------------+\n",
      "only showing top 20 rows\n",
      "\n"
     ]
    }
   ],
   "source": [
    "data.show()"
   ]
  },
  {
   "cell_type": "code",
   "execution_count": 7,
   "id": "86f939ce",
   "metadata": {},
   "outputs": [],
   "source": [
    "from pyspark.sql.functions import col,desc"
   ]
  },
  {
   "cell_type": "code",
   "execution_count": 8,
   "id": "89215665",
   "metadata": {},
   "outputs": [],
   "source": [
    "data_1 = data.select(\"Age\").\\\n",
    "filter(col(\"Age\") >= 25).\\\n",
    "orderBy(desc(\"Age\"))"
   ]
  },
  {
   "cell_type": "code",
   "execution_count": 9,
   "id": "046e370e",
   "metadata": {},
   "outputs": [
    {
     "name": "stdout",
     "output_type": "stream",
     "text": [
      "root\n",
      " |-- Age: integer (nullable = true)\n",
      "\n"
     ]
    }
   ],
   "source": [
    "data_1.printSchema()"
   ]
  },
  {
   "cell_type": "code",
   "execution_count": 10,
   "id": "cbb37c56",
   "metadata": {},
   "outputs": [
    {
     "name": "stdout",
     "output_type": "stream",
     "text": [
      "+---+\n",
      "|Age|\n",
      "+---+\n",
      "| 45|\n",
      "| 44|\n",
      "| 43|\n",
      "| 42|\n",
      "| 40|\n",
      "| 39|\n",
      "| 38|\n",
      "| 37|\n",
      "| 36|\n",
      "| 36|\n",
      "| 35|\n",
      "| 34|\n",
      "| 33|\n",
      "| 32|\n",
      "| 31|\n",
      "| 30|\n",
      "| 30|\n",
      "| 29|\n",
      "| 29|\n",
      "| 28|\n",
      "+---+\n",
      "only showing top 20 rows\n",
      "\n"
     ]
    }
   ],
   "source": [
    "data_1.show()"
   ]
  },
  {
   "cell_type": "code",
   "execution_count": 11,
   "id": "218e0d21",
   "metadata": {},
   "outputs": [
    {
     "name": "stdout",
     "output_type": "stream",
     "text": [
      "+--------+\n",
      "|avg(Age)|\n",
      "+--------+\n",
      "|   33.72|\n",
      "+--------+\n",
      "\n",
      "+--------+\n",
      "|max(Age)|\n",
      "+--------+\n",
      "|      45|\n",
      "+--------+\n",
      "\n",
      "+--------+\n",
      "|min(Age)|\n",
      "+--------+\n",
      "|      25|\n",
      "+--------+\n",
      "\n"
     ]
    }
   ],
   "source": [
    "data_2 = data.agg({'Age': 'avg'})\n",
    "data_3 = data.agg({'Age': 'max'})\n",
    "data_4 = data.agg({'Age': 'min'})\n",
    "\n",
    "data_2.show()\n",
    "data_3.show()\n",
    "data_4.show()"
   ]
  },
  {
   "cell_type": "code",
   "execution_count": 12,
   "id": "dd365b99",
   "metadata": {},
   "outputs": [
    {
     "name": "stdout",
     "output_type": "stream",
     "text": [
      "root\n",
      " |-- S.no: integer (nullable = true)\n",
      " |-- Name: string (nullable = true)\n",
      " |-- Age: integer (nullable = true)\n",
      " |-- Occuption: string (nullable = true)\n",
      " |-- Education: string (nullable = true)\n",
      "\n"
     ]
    }
   ],
   "source": [
    "data2= spark.read.format('csv').\\\n",
    "option('inferSchema','true').\\\n",
    "option('header','true').\\\n",
    "option('path','New_Data_Person.csv').\\\n",
    "load()\n",
    "data.printSchema()"
   ]
  },
  {
   "cell_type": "code",
   "execution_count": 13,
   "id": "2e2c5936",
   "metadata": {},
   "outputs": [
    {
     "name": "stdout",
     "output_type": "stream",
     "text": [
      "+----+--------+---+------------------+-------------------+----------+\n",
      "|S.no|    Name|Age|         Occuption|          Education|Department|\n",
      "+----+--------+---+------------------+-------------------+----------+\n",
      "|   1|  Idrish| 36|        Kishan Lal|High School Diploma|        HR|\n",
      "|   2|   Noyan| 30|          Engineer|    Master's Degree|        IT|\n",
      "|   3|  Sameer| 25|           Teacher| Doctor of Medicine|        IT|\n",
      "|   4|  Aakash| 35|            Doctor|  Bachelor's Degree|        IT|\n",
      "|   5|   Rohit| 28|Software Developer|  Bachelor's Degree|        IT|\n",
      "|   6|   Rahul| 40|        Accountant|  Bachelor's Degree|        IT|\n",
      "|   7|   Sumit| 29|  Graphic Designer|       Juris Doctor|        IT|\n",
      "|   8|   Ronak| 45|            Lawyer|  Bachelor's Degree|        IT|\n",
      "|   9|Priyanka| 32| Marketing Manager|High School Diploma|        IT|\n",
      "|  10| Fardeen| 27|           Student|  Bachelor's Degree|        IT|\n",
      "|  11|  Noshad| 38|             Nurse|  Bachelor's Degree|        IT|\n",
      "|  12|   Aakib| 31|         Architect|  Bachelor's Degree|        IT|\n",
      "|  13|  Manish| 33|        Journalist|  Bachelor's Degree|        IT|\n",
      "|  14|   Adiba| 42| Financial Analyst| Doctor of Pharmacy|        IT|\n",
      "|  15|  Monish| 26|        Pharmacist|       Trade School|        IT|\n",
      "|  16|    Annu| 36|       Electrician|    Culinary School|        IT|\n",
      "|  17|    Aman| 29|              Chef|     Police Academy|        IT|\n",
      "|  18|  Anupma| 39|    Police Officer|    Master's Degree|        IT|\n",
      "|  19|  Salman| 34|         Librarian|  Bachelor's Degree|        IT|\n",
      "|  20|   Rehan| 37| Real Estate Agent|    Master's Degree|        IT|\n",
      "+----+--------+---+------------------+-------------------+----------+\n",
      "only showing top 20 rows\n",
      "\n"
     ]
    }
   ],
   "source": [
    "data2.show()"
   ]
  },
  {
   "cell_type": "code",
   "execution_count": null,
   "id": "70448351",
   "metadata": {},
   "outputs": [],
   "source": []
  }
 ],
 "metadata": {
  "kernelspec": {
   "display_name": "Python 3 (ipykernel)",
   "language": "python",
   "name": "python3"
  },
  "language_info": {
   "codemirror_mode": {
    "name": "ipython",
    "version": 3
   },
   "file_extension": ".py",
   "mimetype": "text/x-python",
   "name": "python",
   "nbconvert_exporter": "python",
   "pygments_lexer": "ipython3",
   "version": "3.11.4"
  }
 },
 "nbformat": 4,
 "nbformat_minor": 5
}
